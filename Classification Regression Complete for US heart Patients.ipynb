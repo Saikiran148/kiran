{
 "cells": [
  {
   "cell_type": "code",
   "execution_count": 388,
   "metadata": {},
   "outputs": [],
   "source": [
    "import numpy as np\n",
    "import pandas as pd\n",
    "import matplotlib.pyplot as plt\n",
    "import seaborn as sns\n",
    "import sklearn.model_selection as model_selection\n",
    "from sklearn.linear_model import LinearRegression, LogisticRegression\n",
    "from sklearn.tree import DecisionTreeClassifier\n",
    "from sklearn.ensemble import RandomForestClassifier\n",
    "from sklearn.model_selection import KFold, cross_val_score\n",
    "from sklearn.linear_model import LinearRegression\n",
    "from sklearn.model_selection import train_test_split\n",
    "from sklearn.metrics import r2_score\n",
    "from statsmodels.stats.outliers_influence import variance_inflation_factor\n",
    "from sklearn.metrics import roc_auc_score, roc_curve, confusion_matrix\n",
    "from sklearn.metrics import accuracy_score, classification_report, roc_auc_score, roc_curve\n",
    "from statsmodels.tools import add_constant as add_constant\n",
    "from sklearn.metrics import r2_score\n",
    "from scipy.stats             import ttest_1samp,ttest_ind, wilcoxon\n",
    "from statsmodels.stats.power import ttest_power\n",
    "import matplotlib.pyplot     as     plt\n",
    "from imblearn.over_sampling import SMOTE\n",
    "from sklearn.neighbors import KNeighborsClassifier"
   ]
  },
  {
   "cell_type": "code",
   "execution_count": 389,
   "metadata": {},
   "outputs": [],
   "source": [
    "data =  pd.read_csv('US_Heart_Patients.csv')"
   ]
  },
  {
   "cell_type": "code",
   "execution_count": 390,
   "metadata": {},
   "outputs": [
    {
     "data": {
      "text/plain": [
       "(4240, 16)"
      ]
     },
     "execution_count": 390,
     "metadata": {},
     "output_type": "execute_result"
    }
   ],
   "source": [
    "data.shape"
   ]
  },
  {
   "cell_type": "code",
   "execution_count": 391,
   "metadata": {},
   "outputs": [
    {
     "data": {
      "text/html": [
       "<div>\n",
       "<style scoped>\n",
       "    .dataframe tbody tr th:only-of-type {\n",
       "        vertical-align: middle;\n",
       "    }\n",
       "\n",
       "    .dataframe tbody tr th {\n",
       "        vertical-align: top;\n",
       "    }\n",
       "\n",
       "    .dataframe thead th {\n",
       "        text-align: right;\n",
       "    }\n",
       "</style>\n",
       "<table border=\"1\" class=\"dataframe\">\n",
       "  <thead>\n",
       "    <tr style=\"text-align: right;\">\n",
       "      <th></th>\n",
       "      <th>male</th>\n",
       "      <th>age</th>\n",
       "      <th>education</th>\n",
       "      <th>currentSmoker</th>\n",
       "      <th>cigsPerDay</th>\n",
       "      <th>BPMeds</th>\n",
       "      <th>prevalentStroke</th>\n",
       "      <th>prevalentHyp</th>\n",
       "      <th>diabetes</th>\n",
       "      <th>totChol</th>\n",
       "      <th>sysBP</th>\n",
       "      <th>diaBP</th>\n",
       "      <th>BMI</th>\n",
       "      <th>heartRate</th>\n",
       "      <th>glucose</th>\n",
       "      <th>TenYearCHD</th>\n",
       "    </tr>\n",
       "  </thead>\n",
       "  <tbody>\n",
       "    <tr>\n",
       "      <th>0</th>\n",
       "      <td>1</td>\n",
       "      <td>39</td>\n",
       "      <td>4.0</td>\n",
       "      <td>0</td>\n",
       "      <td>0.0</td>\n",
       "      <td>0.0</td>\n",
       "      <td>0</td>\n",
       "      <td>0</td>\n",
       "      <td>0</td>\n",
       "      <td>195.0</td>\n",
       "      <td>106.0</td>\n",
       "      <td>70.0</td>\n",
       "      <td>26.97</td>\n",
       "      <td>80.0</td>\n",
       "      <td>77.0</td>\n",
       "      <td>0</td>\n",
       "    </tr>\n",
       "    <tr>\n",
       "      <th>1</th>\n",
       "      <td>0</td>\n",
       "      <td>46</td>\n",
       "      <td>2.0</td>\n",
       "      <td>0</td>\n",
       "      <td>0.0</td>\n",
       "      <td>0.0</td>\n",
       "      <td>0</td>\n",
       "      <td>0</td>\n",
       "      <td>0</td>\n",
       "      <td>250.0</td>\n",
       "      <td>121.0</td>\n",
       "      <td>81.0</td>\n",
       "      <td>28.73</td>\n",
       "      <td>95.0</td>\n",
       "      <td>76.0</td>\n",
       "      <td>0</td>\n",
       "    </tr>\n",
       "  </tbody>\n",
       "</table>\n",
       "</div>"
      ],
      "text/plain": [
       "   male  age  education  currentSmoker  cigsPerDay  BPMeds  prevalentStroke  \\\n",
       "0     1   39        4.0              0         0.0     0.0                0   \n",
       "1     0   46        2.0              0         0.0     0.0                0   \n",
       "\n",
       "   prevalentHyp  diabetes  totChol  sysBP  diaBP    BMI  heartRate  glucose  \\\n",
       "0             0         0    195.0  106.0   70.0  26.97       80.0     77.0   \n",
       "1             0         0    250.0  121.0   81.0  28.73       95.0     76.0   \n",
       "\n",
       "   TenYearCHD  \n",
       "0           0  \n",
       "1           0  "
      ]
     },
     "execution_count": 391,
     "metadata": {},
     "output_type": "execute_result"
    }
   ],
   "source": [
    "data.head(2)"
   ]
  },
  {
   "cell_type": "markdown",
   "metadata": {},
   "source": [
    "1.\tData Ingestion: Read the dataset (tab, csv, xls, txt, inbuilt dataset). Do the descriptive statistics and do null value condition check, write an inference on it.  "
   ]
  },
  {
   "cell_type": "code",
   "execution_count": 392,
   "metadata": {},
   "outputs": [
    {
     "data": {
      "text/plain": [
       "male                 0\n",
       "age                  0\n",
       "education          105\n",
       "currentSmoker        0\n",
       "cigsPerDay          29\n",
       "BPMeds              53\n",
       "prevalentStroke      0\n",
       "prevalentHyp         0\n",
       "diabetes             0\n",
       "totChol             50\n",
       "sysBP                0\n",
       "diaBP                0\n",
       "BMI                 19\n",
       "heartRate            1\n",
       "glucose            388\n",
       "TenYearCHD           0\n",
       "dtype: int64"
      ]
     },
     "execution_count": 392,
     "metadata": {},
     "output_type": "execute_result"
    }
   ],
   "source": [
    "data.isnull().sum()"
   ]
  },
  {
   "cell_type": "code",
   "execution_count": 393,
   "metadata": {},
   "outputs": [
    {
     "name": "stdout",
     "output_type": "stream",
     "text": [
      "<class 'pandas.core.frame.DataFrame'>\n",
      "RangeIndex: 4240 entries, 0 to 4239\n",
      "Data columns (total 16 columns):\n",
      "male               4240 non-null int64\n",
      "age                4240 non-null int64\n",
      "education          4135 non-null float64\n",
      "currentSmoker      4240 non-null int64\n",
      "cigsPerDay         4211 non-null float64\n",
      "BPMeds             4187 non-null float64\n",
      "prevalentStroke    4240 non-null int64\n",
      "prevalentHyp       4240 non-null int64\n",
      "diabetes           4240 non-null int64\n",
      "totChol            4190 non-null float64\n",
      "sysBP              4240 non-null float64\n",
      "diaBP              4240 non-null float64\n",
      "BMI                4221 non-null float64\n",
      "heartRate          4239 non-null float64\n",
      "glucose            3852 non-null float64\n",
      "TenYearCHD         4240 non-null int64\n",
      "dtypes: float64(9), int64(7)\n",
      "memory usage: 530.1 KB\n"
     ]
    }
   ],
   "source": [
    "data.info()"
   ]
  },
  {
   "cell_type": "code",
   "execution_count": 394,
   "metadata": {},
   "outputs": [
    {
     "data": {
      "text/html": [
       "<div>\n",
       "<style scoped>\n",
       "    .dataframe tbody tr th:only-of-type {\n",
       "        vertical-align: middle;\n",
       "    }\n",
       "\n",
       "    .dataframe tbody tr th {\n",
       "        vertical-align: top;\n",
       "    }\n",
       "\n",
       "    .dataframe thead th {\n",
       "        text-align: right;\n",
       "    }\n",
       "</style>\n",
       "<table border=\"1\" class=\"dataframe\">\n",
       "  <thead>\n",
       "    <tr style=\"text-align: right;\">\n",
       "      <th></th>\n",
       "      <th>male</th>\n",
       "      <th>age</th>\n",
       "      <th>education</th>\n",
       "      <th>currentSmoker</th>\n",
       "      <th>cigsPerDay</th>\n",
       "      <th>BPMeds</th>\n",
       "      <th>prevalentStroke</th>\n",
       "      <th>prevalentHyp</th>\n",
       "      <th>diabetes</th>\n",
       "      <th>totChol</th>\n",
       "      <th>sysBP</th>\n",
       "      <th>diaBP</th>\n",
       "      <th>BMI</th>\n",
       "      <th>heartRate</th>\n",
       "      <th>glucose</th>\n",
       "      <th>TenYearCHD</th>\n",
       "    </tr>\n",
       "  </thead>\n",
       "  <tbody>\n",
       "    <tr>\n",
       "      <th>male</th>\n",
       "      <td>1.000000</td>\n",
       "      <td>-0.029014</td>\n",
       "      <td>0.017415</td>\n",
       "      <td>0.197026</td>\n",
       "      <td>0.317143</td>\n",
       "      <td>-0.052504</td>\n",
       "      <td>-0.004550</td>\n",
       "      <td>0.005853</td>\n",
       "      <td>0.015693</td>\n",
       "      <td>-0.070413</td>\n",
       "      <td>-0.035879</td>\n",
       "      <td>0.058199</td>\n",
       "      <td>0.081871</td>\n",
       "      <td>-0.116932</td>\n",
       "      <td>0.005979</td>\n",
       "      <td>0.088374</td>\n",
       "    </tr>\n",
       "    <tr>\n",
       "      <th>age</th>\n",
       "      <td>-0.029014</td>\n",
       "      <td>1.000000</td>\n",
       "      <td>-0.166356</td>\n",
       "      <td>-0.213662</td>\n",
       "      <td>-0.192959</td>\n",
       "      <td>0.123052</td>\n",
       "      <td>0.057679</td>\n",
       "      <td>0.306799</td>\n",
       "      <td>0.101314</td>\n",
       "      <td>0.262554</td>\n",
       "      <td>0.394053</td>\n",
       "      <td>0.205586</td>\n",
       "      <td>0.136096</td>\n",
       "      <td>-0.012843</td>\n",
       "      <td>0.122356</td>\n",
       "      <td>0.225408</td>\n",
       "    </tr>\n",
       "    <tr>\n",
       "      <th>education</th>\n",
       "      <td>0.017415</td>\n",
       "      <td>-0.166356</td>\n",
       "      <td>1.000000</td>\n",
       "      <td>0.018528</td>\n",
       "      <td>0.008323</td>\n",
       "      <td>-0.010898</td>\n",
       "      <td>-0.035142</td>\n",
       "      <td>-0.081726</td>\n",
       "      <td>-0.038749</td>\n",
       "      <td>-0.023613</td>\n",
       "      <td>-0.129496</td>\n",
       "      <td>-0.061919</td>\n",
       "      <td>-0.137747</td>\n",
       "      <td>-0.054182</td>\n",
       "      <td>-0.035843</td>\n",
       "      <td>-0.054248</td>\n",
       "    </tr>\n",
       "    <tr>\n",
       "      <th>currentSmoker</th>\n",
       "      <td>0.197026</td>\n",
       "      <td>-0.213662</td>\n",
       "      <td>0.018528</td>\n",
       "      <td>1.000000</td>\n",
       "      <td>0.769774</td>\n",
       "      <td>-0.048927</td>\n",
       "      <td>-0.032980</td>\n",
       "      <td>-0.103710</td>\n",
       "      <td>-0.044285</td>\n",
       "      <td>-0.046488</td>\n",
       "      <td>-0.130281</td>\n",
       "      <td>-0.107933</td>\n",
       "      <td>-0.167857</td>\n",
       "      <td>0.062686</td>\n",
       "      <td>-0.056726</td>\n",
       "      <td>0.019448</td>\n",
       "    </tr>\n",
       "    <tr>\n",
       "      <th>cigsPerDay</th>\n",
       "      <td>0.317143</td>\n",
       "      <td>-0.192959</td>\n",
       "      <td>0.008323</td>\n",
       "      <td>0.769774</td>\n",
       "      <td>1.000000</td>\n",
       "      <td>-0.046155</td>\n",
       "      <td>-0.032711</td>\n",
       "      <td>-0.066645</td>\n",
       "      <td>-0.037089</td>\n",
       "      <td>-0.026479</td>\n",
       "      <td>-0.088797</td>\n",
       "      <td>-0.056715</td>\n",
       "      <td>-0.093293</td>\n",
       "      <td>0.075564</td>\n",
       "      <td>-0.058886</td>\n",
       "      <td>0.057755</td>\n",
       "    </tr>\n",
       "    <tr>\n",
       "      <th>BPMeds</th>\n",
       "      <td>-0.052504</td>\n",
       "      <td>0.123052</td>\n",
       "      <td>-0.010898</td>\n",
       "      <td>-0.048927</td>\n",
       "      <td>-0.046155</td>\n",
       "      <td>1.000000</td>\n",
       "      <td>0.117370</td>\n",
       "      <td>0.261067</td>\n",
       "      <td>0.052060</td>\n",
       "      <td>0.080623</td>\n",
       "      <td>0.254194</td>\n",
       "      <td>0.194122</td>\n",
       "      <td>0.100702</td>\n",
       "      <td>0.015230</td>\n",
       "      <td>0.051197</td>\n",
       "      <td>0.087519</td>\n",
       "    </tr>\n",
       "    <tr>\n",
       "      <th>prevalentStroke</th>\n",
       "      <td>-0.004550</td>\n",
       "      <td>0.057679</td>\n",
       "      <td>-0.035142</td>\n",
       "      <td>-0.032980</td>\n",
       "      <td>-0.032711</td>\n",
       "      <td>0.117370</td>\n",
       "      <td>1.000000</td>\n",
       "      <td>0.074791</td>\n",
       "      <td>0.006955</td>\n",
       "      <td>0.000105</td>\n",
       "      <td>0.057000</td>\n",
       "      <td>0.045153</td>\n",
       "      <td>0.025909</td>\n",
       "      <td>-0.017674</td>\n",
       "      <td>0.018440</td>\n",
       "      <td>0.061823</td>\n",
       "    </tr>\n",
       "    <tr>\n",
       "      <th>prevalentHyp</th>\n",
       "      <td>0.005853</td>\n",
       "      <td>0.306799</td>\n",
       "      <td>-0.081726</td>\n",
       "      <td>-0.103710</td>\n",
       "      <td>-0.066645</td>\n",
       "      <td>0.261067</td>\n",
       "      <td>0.074791</td>\n",
       "      <td>1.000000</td>\n",
       "      <td>0.077752</td>\n",
       "      <td>0.163632</td>\n",
       "      <td>0.696656</td>\n",
       "      <td>0.615840</td>\n",
       "      <td>0.301344</td>\n",
       "      <td>0.146815</td>\n",
       "      <td>0.086656</td>\n",
       "      <td>0.177458</td>\n",
       "    </tr>\n",
       "    <tr>\n",
       "      <th>diabetes</th>\n",
       "      <td>0.015693</td>\n",
       "      <td>0.101314</td>\n",
       "      <td>-0.038749</td>\n",
       "      <td>-0.044285</td>\n",
       "      <td>-0.037089</td>\n",
       "      <td>0.052060</td>\n",
       "      <td>0.006955</td>\n",
       "      <td>0.077752</td>\n",
       "      <td>1.000000</td>\n",
       "      <td>0.040348</td>\n",
       "      <td>0.111265</td>\n",
       "      <td>0.050260</td>\n",
       "      <td>0.087068</td>\n",
       "      <td>0.048986</td>\n",
       "      <td>0.617630</td>\n",
       "      <td>0.097344</td>\n",
       "    </tr>\n",
       "    <tr>\n",
       "      <th>totChol</th>\n",
       "      <td>-0.070413</td>\n",
       "      <td>0.262554</td>\n",
       "      <td>-0.023613</td>\n",
       "      <td>-0.046488</td>\n",
       "      <td>-0.026479</td>\n",
       "      <td>0.080623</td>\n",
       "      <td>0.000105</td>\n",
       "      <td>0.163632</td>\n",
       "      <td>0.040348</td>\n",
       "      <td>1.000000</td>\n",
       "      <td>0.208734</td>\n",
       "      <td>0.164698</td>\n",
       "      <td>0.115992</td>\n",
       "      <td>0.091127</td>\n",
       "      <td>0.046538</td>\n",
       "      <td>0.082369</td>\n",
       "    </tr>\n",
       "    <tr>\n",
       "      <th>sysBP</th>\n",
       "      <td>-0.035879</td>\n",
       "      <td>0.394053</td>\n",
       "      <td>-0.129496</td>\n",
       "      <td>-0.130281</td>\n",
       "      <td>-0.088797</td>\n",
       "      <td>0.254194</td>\n",
       "      <td>0.057000</td>\n",
       "      <td>0.696656</td>\n",
       "      <td>0.111265</td>\n",
       "      <td>0.208734</td>\n",
       "      <td>1.000000</td>\n",
       "      <td>0.783952</td>\n",
       "      <td>0.326906</td>\n",
       "      <td>0.182155</td>\n",
       "      <td>0.140573</td>\n",
       "      <td>0.216374</td>\n",
       "    </tr>\n",
       "    <tr>\n",
       "      <th>diaBP</th>\n",
       "      <td>0.058199</td>\n",
       "      <td>0.205586</td>\n",
       "      <td>-0.061919</td>\n",
       "      <td>-0.107933</td>\n",
       "      <td>-0.056715</td>\n",
       "      <td>0.194122</td>\n",
       "      <td>0.045153</td>\n",
       "      <td>0.615840</td>\n",
       "      <td>0.050260</td>\n",
       "      <td>0.164698</td>\n",
       "      <td>0.783952</td>\n",
       "      <td>1.000000</td>\n",
       "      <td>0.377360</td>\n",
       "      <td>0.181021</td>\n",
       "      <td>0.061075</td>\n",
       "      <td>0.145112</td>\n",
       "    </tr>\n",
       "    <tr>\n",
       "      <th>BMI</th>\n",
       "      <td>0.081871</td>\n",
       "      <td>0.136096</td>\n",
       "      <td>-0.137747</td>\n",
       "      <td>-0.167857</td>\n",
       "      <td>-0.093293</td>\n",
       "      <td>0.100702</td>\n",
       "      <td>0.025909</td>\n",
       "      <td>0.301344</td>\n",
       "      <td>0.087068</td>\n",
       "      <td>0.115992</td>\n",
       "      <td>0.326906</td>\n",
       "      <td>0.377360</td>\n",
       "      <td>1.000000</td>\n",
       "      <td>0.067451</td>\n",
       "      <td>0.087389</td>\n",
       "      <td>0.075300</td>\n",
       "    </tr>\n",
       "    <tr>\n",
       "      <th>heartRate</th>\n",
       "      <td>-0.116932</td>\n",
       "      <td>-0.012843</td>\n",
       "      <td>-0.054182</td>\n",
       "      <td>0.062686</td>\n",
       "      <td>0.075564</td>\n",
       "      <td>0.015230</td>\n",
       "      <td>-0.017674</td>\n",
       "      <td>0.146815</td>\n",
       "      <td>0.048986</td>\n",
       "      <td>0.091127</td>\n",
       "      <td>0.182155</td>\n",
       "      <td>0.181021</td>\n",
       "      <td>0.067451</td>\n",
       "      <td>1.000000</td>\n",
       "      <td>0.094546</td>\n",
       "      <td>0.022907</td>\n",
       "    </tr>\n",
       "    <tr>\n",
       "      <th>glucose</th>\n",
       "      <td>0.005979</td>\n",
       "      <td>0.122356</td>\n",
       "      <td>-0.035843</td>\n",
       "      <td>-0.056726</td>\n",
       "      <td>-0.058886</td>\n",
       "      <td>0.051197</td>\n",
       "      <td>0.018440</td>\n",
       "      <td>0.086656</td>\n",
       "      <td>0.617630</td>\n",
       "      <td>0.046538</td>\n",
       "      <td>0.140573</td>\n",
       "      <td>0.061075</td>\n",
       "      <td>0.087389</td>\n",
       "      <td>0.094546</td>\n",
       "      <td>1.000000</td>\n",
       "      <td>0.125590</td>\n",
       "    </tr>\n",
       "    <tr>\n",
       "      <th>TenYearCHD</th>\n",
       "      <td>0.088374</td>\n",
       "      <td>0.225408</td>\n",
       "      <td>-0.054248</td>\n",
       "      <td>0.019448</td>\n",
       "      <td>0.057755</td>\n",
       "      <td>0.087519</td>\n",
       "      <td>0.061823</td>\n",
       "      <td>0.177458</td>\n",
       "      <td>0.097344</td>\n",
       "      <td>0.082369</td>\n",
       "      <td>0.216374</td>\n",
       "      <td>0.145112</td>\n",
       "      <td>0.075300</td>\n",
       "      <td>0.022907</td>\n",
       "      <td>0.125590</td>\n",
       "      <td>1.000000</td>\n",
       "    </tr>\n",
       "  </tbody>\n",
       "</table>\n",
       "</div>"
      ],
      "text/plain": [
       "                     male       age  education  currentSmoker  cigsPerDay  \\\n",
       "male             1.000000 -0.029014   0.017415       0.197026    0.317143   \n",
       "age             -0.029014  1.000000  -0.166356      -0.213662   -0.192959   \n",
       "education        0.017415 -0.166356   1.000000       0.018528    0.008323   \n",
       "currentSmoker    0.197026 -0.213662   0.018528       1.000000    0.769774   \n",
       "cigsPerDay       0.317143 -0.192959   0.008323       0.769774    1.000000   \n",
       "BPMeds          -0.052504  0.123052  -0.010898      -0.048927   -0.046155   \n",
       "prevalentStroke -0.004550  0.057679  -0.035142      -0.032980   -0.032711   \n",
       "prevalentHyp     0.005853  0.306799  -0.081726      -0.103710   -0.066645   \n",
       "diabetes         0.015693  0.101314  -0.038749      -0.044285   -0.037089   \n",
       "totChol         -0.070413  0.262554  -0.023613      -0.046488   -0.026479   \n",
       "sysBP           -0.035879  0.394053  -0.129496      -0.130281   -0.088797   \n",
       "diaBP            0.058199  0.205586  -0.061919      -0.107933   -0.056715   \n",
       "BMI              0.081871  0.136096  -0.137747      -0.167857   -0.093293   \n",
       "heartRate       -0.116932 -0.012843  -0.054182       0.062686    0.075564   \n",
       "glucose          0.005979  0.122356  -0.035843      -0.056726   -0.058886   \n",
       "TenYearCHD       0.088374  0.225408  -0.054248       0.019448    0.057755   \n",
       "\n",
       "                   BPMeds  prevalentStroke  prevalentHyp  diabetes   totChol  \\\n",
       "male            -0.052504        -0.004550      0.005853  0.015693 -0.070413   \n",
       "age              0.123052         0.057679      0.306799  0.101314  0.262554   \n",
       "education       -0.010898        -0.035142     -0.081726 -0.038749 -0.023613   \n",
       "currentSmoker   -0.048927        -0.032980     -0.103710 -0.044285 -0.046488   \n",
       "cigsPerDay      -0.046155        -0.032711     -0.066645 -0.037089 -0.026479   \n",
       "BPMeds           1.000000         0.117370      0.261067  0.052060  0.080623   \n",
       "prevalentStroke  0.117370         1.000000      0.074791  0.006955  0.000105   \n",
       "prevalentHyp     0.261067         0.074791      1.000000  0.077752  0.163632   \n",
       "diabetes         0.052060         0.006955      0.077752  1.000000  0.040348   \n",
       "totChol          0.080623         0.000105      0.163632  0.040348  1.000000   \n",
       "sysBP            0.254194         0.057000      0.696656  0.111265  0.208734   \n",
       "diaBP            0.194122         0.045153      0.615840  0.050260  0.164698   \n",
       "BMI              0.100702         0.025909      0.301344  0.087068  0.115992   \n",
       "heartRate        0.015230        -0.017674      0.146815  0.048986  0.091127   \n",
       "glucose          0.051197         0.018440      0.086656  0.617630  0.046538   \n",
       "TenYearCHD       0.087519         0.061823      0.177458  0.097344  0.082369   \n",
       "\n",
       "                    sysBP     diaBP       BMI  heartRate   glucose  TenYearCHD  \n",
       "male            -0.035879  0.058199  0.081871  -0.116932  0.005979    0.088374  \n",
       "age              0.394053  0.205586  0.136096  -0.012843  0.122356    0.225408  \n",
       "education       -0.129496 -0.061919 -0.137747  -0.054182 -0.035843   -0.054248  \n",
       "currentSmoker   -0.130281 -0.107933 -0.167857   0.062686 -0.056726    0.019448  \n",
       "cigsPerDay      -0.088797 -0.056715 -0.093293   0.075564 -0.058886    0.057755  \n",
       "BPMeds           0.254194  0.194122  0.100702   0.015230  0.051197    0.087519  \n",
       "prevalentStroke  0.057000  0.045153  0.025909  -0.017674  0.018440    0.061823  \n",
       "prevalentHyp     0.696656  0.615840  0.301344   0.146815  0.086656    0.177458  \n",
       "diabetes         0.111265  0.050260  0.087068   0.048986  0.617630    0.097344  \n",
       "totChol          0.208734  0.164698  0.115992   0.091127  0.046538    0.082369  \n",
       "sysBP            1.000000  0.783952  0.326906   0.182155  0.140573    0.216374  \n",
       "diaBP            0.783952  1.000000  0.377360   0.181021  0.061075    0.145112  \n",
       "BMI              0.326906  0.377360  1.000000   0.067451  0.087389    0.075300  \n",
       "heartRate        0.182155  0.181021  0.067451   1.000000  0.094546    0.022907  \n",
       "glucose          0.140573  0.061075  0.087389   0.094546  1.000000    0.125590  \n",
       "TenYearCHD       0.216374  0.145112  0.075300   0.022907  0.125590    1.000000  "
      ]
     },
     "execution_count": 394,
     "metadata": {},
     "output_type": "execute_result"
    }
   ],
   "source": [
    "data.corr()"
   ]
  },
  {
   "cell_type": "code",
   "execution_count": 395,
   "metadata": {},
   "outputs": [],
   "source": [
    "data.rename(columns ={'male':'Gender'}, inplace = True)"
   ]
  },
  {
   "cell_type": "code",
   "execution_count": null,
   "metadata": {},
   "outputs": [],
   "source": []
  },
  {
   "cell_type": "code",
   "execution_count": 396,
   "metadata": {},
   "outputs": [
    {
     "data": {
      "text/plain": [
       "Gender               int64\n",
       "age                  int64\n",
       "education          float64\n",
       "currentSmoker        int64\n",
       "cigsPerDay         float64\n",
       "BPMeds             float64\n",
       "prevalentStroke      int64\n",
       "prevalentHyp         int64\n",
       "diabetes             int64\n",
       "totChol            float64\n",
       "sysBP              float64\n",
       "diaBP              float64\n",
       "BMI                float64\n",
       "heartRate          float64\n",
       "glucose            float64\n",
       "TenYearCHD           int64\n",
       "dtype: object"
      ]
     },
     "execution_count": 396,
     "metadata": {},
     "output_type": "execute_result"
    }
   ],
   "source": [
    "data.dtypes"
   ]
  },
  {
   "cell_type": "code",
   "execution_count": 397,
   "metadata": {},
   "outputs": [],
   "source": [
    "data = data.dropna()"
   ]
  },
  {
   "cell_type": "code",
   "execution_count": 398,
   "metadata": {
    "scrolled": true
   },
   "outputs": [
    {
     "data": {
      "text/plain": [
       "Gender             0\n",
       "age                0\n",
       "education          0\n",
       "currentSmoker      0\n",
       "cigsPerDay         0\n",
       "BPMeds             0\n",
       "prevalentStroke    0\n",
       "prevalentHyp       0\n",
       "diabetes           0\n",
       "totChol            0\n",
       "sysBP              0\n",
       "diaBP              0\n",
       "BMI                0\n",
       "heartRate          0\n",
       "glucose            0\n",
       "TenYearCHD         0\n",
       "dtype: int64"
      ]
     },
     "execution_count": 398,
     "metadata": {},
     "output_type": "execute_result"
    }
   ],
   "source": [
    "data.isnull().sum()"
   ]
  },
  {
   "cell_type": "code",
   "execution_count": 399,
   "metadata": {},
   "outputs": [
    {
     "data": {
      "text/plain": [
       "(3658, 16)"
      ]
     },
     "execution_count": 399,
     "metadata": {},
     "output_type": "execute_result"
    }
   ],
   "source": [
    "data.shape"
   ]
  },
  {
   "cell_type": "code",
   "execution_count": 400,
   "metadata": {},
   "outputs": [],
   "source": [
    "new_data =data"
   ]
  },
  {
   "cell_type": "markdown",
   "metadata": {},
   "source": [
    "Split Data set (train – 70% and test – 30%), Using test and train data, calculate R square value and check if the model Over-fit / under-fit model.  Write a detailed inference on it. "
   ]
  },
  {
   "cell_type": "code",
   "execution_count": 401,
   "metadata": {},
   "outputs": [],
   "source": [
    "X = data.drop('TenYearCHD', axis=1)\n",
    "y = data['TenYearCHD']"
   ]
  },
  {
   "cell_type": "code",
   "execution_count": 402,
   "metadata": {},
   "outputs": [],
   "source": [
    "X_train, X_test, y_train, y_test = train_test_split( X, y, test_size=0.30, random_state=42)"
   ]
  },
  {
   "cell_type": "code",
   "execution_count": 403,
   "metadata": {},
   "outputs": [
    {
     "data": {
      "text/plain": [
       "(2560, 15)"
      ]
     },
     "execution_count": 403,
     "metadata": {},
     "output_type": "execute_result"
    }
   ],
   "source": [
    "X_train.shape\n"
   ]
  },
  {
   "cell_type": "code",
   "execution_count": 404,
   "metadata": {},
   "outputs": [
    {
     "data": {
      "text/plain": [
       "(1098, 15)"
      ]
     },
     "execution_count": 404,
     "metadata": {},
     "output_type": "execute_result"
    }
   ],
   "source": [
    "X_test.shape"
   ]
  },
  {
   "cell_type": "markdown",
   "metadata": {},
   "source": [
    "model using Logistic regression considering all the input parameters, calculate all the relevant metrics and write summary (5marks)"
   ]
  },
  {
   "cell_type": "code",
   "execution_count": 405,
   "metadata": {},
   "outputs": [],
   "source": [
    "lr = LogisticRegression(solver = 'liblinear')"
   ]
  },
  {
   "cell_type": "code",
   "execution_count": 406,
   "metadata": {},
   "outputs": [
    {
     "data": {
      "text/plain": [
       "LogisticRegression(C=1.0, class_weight=None, dual=False, fit_intercept=True,\n",
       "                   intercept_scaling=1, l1_ratio=None, max_iter=100,\n",
       "                   multi_class='warn', n_jobs=None, penalty='l2',\n",
       "                   random_state=None, solver='liblinear', tol=0.0001, verbose=0,\n",
       "                   warm_start=False)"
      ]
     },
     "execution_count": 406,
     "metadata": {},
     "output_type": "execute_result"
    }
   ],
   "source": [
    "lr.fit(X_train,y_train )"
   ]
  },
  {
   "cell_type": "code",
   "execution_count": 407,
   "metadata": {},
   "outputs": [],
   "source": [
    "# Model Evaluation of Training data"
   ]
  },
  {
   "cell_type": "code",
   "execution_count": 408,
   "metadata": {},
   "outputs": [],
   "source": [
    "y_train_pred = lr.predict(X_train)\n",
    "y_train_prob = lr.predict_proba(X_train)[:,1]"
   ]
  },
  {
   "cell_type": "code",
   "execution_count": 409,
   "metadata": {},
   "outputs": [
    {
     "data": {
      "text/plain": [
       "array([0, 0, 0, ..., 0, 0, 0], dtype=int64)"
      ]
     },
     "execution_count": 409,
     "metadata": {},
     "output_type": "execute_result"
    }
   ],
   "source": [
    "y_train_pred"
   ]
  },
  {
   "cell_type": "code",
   "execution_count": 410,
   "metadata": {},
   "outputs": [
    {
     "data": {
      "text/plain": [
       "array([0.03757528, 0.07737252, 0.20801109, ..., 0.08513971, 0.12127657,\n",
       "       0.15249264])"
      ]
     },
     "execution_count": 410,
     "metadata": {},
     "output_type": "execute_result"
    }
   ],
   "source": [
    "y_train_prob"
   ]
  },
  {
   "cell_type": "code",
   "execution_count": 411,
   "metadata": {},
   "outputs": [],
   "source": [
    "# Confusion Matrix"
   ]
  },
  {
   "cell_type": "code",
   "execution_count": 412,
   "metadata": {},
   "outputs": [
    {
     "data": {
      "text/plain": [
       "array([[2170,    9],\n",
       "       [ 359,   22]], dtype=int64)"
      ]
     },
     "execution_count": 412,
     "metadata": {},
     "output_type": "execute_result"
    }
   ],
   "source": [
    "confusion_matrix(y_train, y_train_pred)"
   ]
  },
  {
   "cell_type": "code",
   "execution_count": 413,
   "metadata": {},
   "outputs": [
    {
     "name": "stdout",
     "output_type": "stream",
     "text": [
      "ROC AUC of Train Data: 0.7305585769195097\n"
     ]
    }
   ],
   "source": [
    "print('ROC AUC of Train Data:',roc_auc_score(y_train, y_train_prob))"
   ]
  },
  {
   "cell_type": "code",
   "execution_count": 414,
   "metadata": {},
   "outputs": [
    {
     "data": {
      "text/plain": [
       "[<matplotlib.lines.Line2D at 0xe1f658fc18>]"
      ]
     },
     "execution_count": 414,
     "metadata": {},
     "output_type": "execute_result"
    },
    {
     "data": {
      "image/png": "[encoded data removed]",
      "text/plain": [
       "<Figure size 432x288 with 1 Axes>"
      ]
     },
     "metadata": {
      "needs_background": "light"
     },
     "output_type": "display_data"
    }
   ],
   "source": [
    "fpr, tpr, threshold = roc_curve(y_train, y_train_prob)\n",
    "plt.plot(fpr,tpr)\n",
    "plt.plot(fpr,fpr)"
   ]
  },
  {
   "cell_type": "code",
   "execution_count": 415,
   "metadata": {},
   "outputs": [],
   "source": [
    "# Model Evaluation of Testing data"
   ]
  },
  {
   "cell_type": "code",
   "execution_count": 416,
   "metadata": {},
   "outputs": [],
   "source": [
    "y_test_pred = lr.predict(X_test)\n",
    "y_test_prob = lr.predict_proba(X_test)[:,1]"
   ]
  },
  {
   "cell_type": "code",
   "execution_count": 417,
   "metadata": {},
   "outputs": [
    {
     "data": {
      "text/plain": [
       "array([0, 0, 0, ..., 0, 0, 0], dtype=int64)"
      ]
     },
     "execution_count": 417,
     "metadata": {},
     "output_type": "execute_result"
    }
   ],
   "source": [
    "y_test_pred"
   ]
  },
  {
   "cell_type": "code",
   "execution_count": 418,
   "metadata": {},
   "outputs": [
    {
     "data": {
      "text/plain": [
       "array([0.06141412, 0.21401753, 0.02511335, ..., 0.07501994, 0.04866273,\n",
       "       0.07618584])"
      ]
     },
     "execution_count": 418,
     "metadata": {},
     "output_type": "execute_result"
    }
   ],
   "source": [
    "y_test_prob"
   ]
  },
  {
   "cell_type": "code",
   "execution_count": 419,
   "metadata": {},
   "outputs": [],
   "source": [
    "# Confusion Matrix for testing data"
   ]
  },
  {
   "cell_type": "code",
   "execution_count": 420,
   "metadata": {},
   "outputs": [
    {
     "data": {
      "text/plain": [
       "array([[918,   4],\n",
       "       [169,   7]], dtype=int64)"
      ]
     },
     "execution_count": 420,
     "metadata": {},
     "output_type": "execute_result"
    }
   ],
   "source": [
    "confusion_matrix(y_test, y_test_pred)"
   ]
  },
  {
   "cell_type": "code",
   "execution_count": 421,
   "metadata": {},
   "outputs": [
    {
     "name": "stdout",
     "output_type": "stream",
     "text": [
      "ROC AUC of Test Data: 0.7471036284756459\n"
     ]
    }
   ],
   "source": [
    "print('ROC AUC of Test Data:',roc_auc_score(y_test, y_test_prob))"
   ]
  },
  {
   "cell_type": "code",
   "execution_count": 422,
   "metadata": {},
   "outputs": [
    {
     "data": {
      "text/plain": [
       "[<matplotlib.lines.Line2D at 0xe1f6633320>]"
      ]
     },
     "execution_count": 422,
     "metadata": {},
     "output_type": "execute_result"
    },
    {
     "data": {
      "image/png": "[encoded data removed]",
      "text/plain": [
       "<Figure size 432x288 with 1 Axes>"
      ]
     },
     "metadata": {
      "needs_background": "light"
     },
     "output_type": "display_data"
    }
   ],
   "source": [
    "fpr, tpr, threshold = roc_curve(y_test, y_test_prob)\n",
    "plt.plot(fpr,tpr)\n",
    "plt.plot(fpr,fpr)"
   ]
  },
  {
   "cell_type": "markdown",
   "metadata": {},
   "source": [
    "a. Check for Outlier using Box plot and apply the formula to check how many of these data has outliers "
   ]
  },
  {
   "cell_type": "code",
   "execution_count": 423,
   "metadata": {},
   "outputs": [
    {
     "data": {
      "text/plain": [
       "<matplotlib.axes._subplots.AxesSubplot at 0xe1f665da20>"
      ]
     },
     "execution_count": 423,
     "metadata": {},
     "output_type": "execute_result"
    },
    {
     "data": {
      "image/png": "[encoded data removed]",
      "text/plain": [
       "<Figure size 432x288 with 1 Axes>"
      ]
     },
     "metadata": {
      "needs_background": "light"
     },
     "output_type": "display_data"
    }
   ],
   "source": [
    "sns.boxplot(data['glucose'])"
   ]
  },
  {
   "cell_type": "code",
   "execution_count": 424,
   "metadata": {},
   "outputs": [
    {
     "data": {
      "text/plain": [
       "<matplotlib.axes._subplots.AxesSubplot at 0xe1f66ec1d0>"
      ]
     },
     "execution_count": 424,
     "metadata": {},
     "output_type": "execute_result"
    },
    {
     "data": {
      "image/png": "[encoded data removed]",
      "text/plain": [
       "<Figure size 432x288 with 1 Axes>"
      ]
     },
     "metadata": {
      "needs_background": "light"
     },
     "output_type": "display_data"
    }
   ],
   "source": [
    "sns.boxplot(data['totChol'])\n"
   ]
  },
  {
   "cell_type": "code",
   "execution_count": 425,
   "metadata": {},
   "outputs": [
    {
     "data": {
      "text/plain": [
       "<matplotlib.axes._subplots.AxesSubplot at 0xe1f6555240>"
      ]
     },
     "execution_count": 425,
     "metadata": {},
     "output_type": "execute_result"
    },
    {
     "data": {
      "image/png": "[encoded data removed]",
      "text/plain": [
       "<Figure size 432x288 with 1 Axes>"
      ]
     },
     "metadata": {
      "needs_background": "light"
     },
     "output_type": "display_data"
    }
   ],
   "source": [
    "sns.boxplot(data['sysBP'])"
   ]
  },
  {
   "cell_type": "code",
   "execution_count": 426,
   "metadata": {},
   "outputs": [
    {
     "data": {
      "text/plain": [
       "<matplotlib.axes._subplots.AxesSubplot at 0xe1f6080ba8>"
      ]
     },
     "execution_count": 426,
     "metadata": {},
     "output_type": "execute_result"
    },
    {
     "data": {
      "image/png": "[encoded data removed]",
      "text/plain": [
       "<Figure size 432x288 with 1 Axes>"
      ]
     },
     "metadata": {
      "needs_background": "light"
     },
     "output_type": "display_data"
    }
   ],
   "source": [
    "sns.boxplot(data['diaBP'])\n"
   ]
  },
  {
   "cell_type": "code",
   "execution_count": 427,
   "metadata": {},
   "outputs": [
    {
     "data": {
      "text/plain": [
       "<matplotlib.axes._subplots.AxesSubplot at 0xe1f24cd128>"
      ]
     },
     "execution_count": 427,
     "metadata": {},
     "output_type": "execute_result"
    },
    {
     "data": {
      "image/png": "[encoded data removed]",
      "text/plain": [
       "<Figure size 432x288 with 1 Axes>"
      ]
     },
     "metadata": {
      "needs_background": "light"
     },
     "output_type": "display_data"
    }
   ],
   "source": [
    "sns.boxplot(data['BMI'])\n"
   ]
  },
  {
   "cell_type": "code",
   "execution_count": 428,
   "metadata": {
    "scrolled": true
   },
   "outputs": [
    {
     "data": {
      "text/plain": [
       "<matplotlib.axes._subplots.AxesSubplot at 0xe1f62c0860>"
      ]
     },
     "execution_count": 428,
     "metadata": {},
     "output_type": "execute_result"
    },
    {
     "data": {
      "image/png": "[encoded data removed]",
      "text/plain": [
       "<Figure size 432x288 with 1 Axes>"
      ]
     },
     "metadata": {
      "needs_background": "light"
     },
     "output_type": "display_data"
    }
   ],
   "source": [
    "sns.boxplot(data['heartRate'])"
   ]
  },
  {
   "cell_type": "code",
   "execution_count": 429,
   "metadata": {},
   "outputs": [],
   "source": [
    "new_data = data"
   ]
  },
  {
   "cell_type": "code",
   "execution_count": 430,
   "metadata": {},
   "outputs": [],
   "source": [
    "# Log transformation\n",
    "import numpy as np\n",
    "new_data['totChol'], new_data['sysBP'] ,new_data['diaBP'], new_data['BMI'], new_data['heartRate'], new_data['glucose'] = np.log(data['totChol']),np.log(data['sysBP']),np.log(data['diaBP']),np.log(data['BMI']),np.log(data['heartRate']),np.log(data['glucose'])"
   ]
  },
  {
   "cell_type": "markdown",
   "metadata": {},
   "source": [
    "Log Transformed New Data"
   ]
  },
  {
   "cell_type": "code",
   "execution_count": 431,
   "metadata": {},
   "outputs": [
    {
     "data": {
      "text/plain": [
       "(3658, 16)"
      ]
     },
     "execution_count": 431,
     "metadata": {},
     "output_type": "execute_result"
    }
   ],
   "source": [
    "new_data.shape"
   ]
  },
  {
   "cell_type": "markdown",
   "metadata": {},
   "source": [
    "As, we can see that the glucose column is heavily right skewed"
   ]
  },
  {
   "cell_type": "code",
   "execution_count": 432,
   "metadata": {},
   "outputs": [],
   "source": [
    "# dataframe with categorical features\n",
    "# df.describe(include=['object'])"
   ]
  },
  {
   "cell_type": "code",
   "execution_count": 433,
   "metadata": {},
   "outputs": [],
   "source": [
    "# dataframe with numerical features\n",
    "# df.describe(include=['int64'])"
   ]
  },
  {
   "cell_type": "code",
   "execution_count": 434,
   "metadata": {},
   "outputs": [],
   "source": [
    "# save all categorical columns in list\n",
    "#categorical_columns = [col for col in df.columns.values if df[col].dtype == 'object']\n",
    "\n",
    "# dataframe with categorical features\n",
    "#data_cat = df[categorical_columns]\n",
    "# dataframe with numerical features\n",
    "#data_num = df.drop(categorical_columns, axis=1)"
   ]
  },
  {
   "cell_type": "code",
   "execution_count": 435,
   "metadata": {},
   "outputs": [
    {
     "data": {
      "text/plain": [
       "<matplotlib.axes._subplots.AxesSubplot at 0xe1f6058ba8>"
      ]
     },
     "execution_count": 435,
     "metadata": {},
     "output_type": "execute_result"
    },
    {
     "data": {
      "image/png": "[encoded data removed]",
      "text/plain": [
       "<Figure size 720x504 with 2 Axes>"
      ]
     },
     "metadata": {
      "needs_background": "light"
     },
     "output_type": "display_data"
    }
   ],
   "source": [
    "plt.figure(figsize = (10,7))\n",
    "sns.heatmap(data.corr(), annot =True)"
   ]
  },
  {
   "cell_type": "markdown",
   "metadata": {},
   "source": [
    "c. Plot best X with Y and find how the Y is varying with X.\n",
    "     Like if X is continuous, go for scatter plot.\n",
    "     if X is categorical, go for box plot.\n"
   ]
  },
  {
   "cell_type": "markdown",
   "metadata": {},
   "source": [
    "According to correlation matrix it can be clearly seen that  the highest dependent feature for predicting TenYear CHD is Age.\n",
    "Therefore making a box plot for the same."
   ]
  },
  {
   "cell_type": "code",
   "execution_count": 436,
   "metadata": {},
   "outputs": [
    {
     "data": {
      "text/plain": [
       "<matplotlib.axes._subplots.AxesSubplot at 0xe1f7aa5d68>"
      ]
     },
     "execution_count": 436,
     "metadata": {},
     "output_type": "execute_result"
    },
    {
     "data": {
      "image/png": "[encoded data removed]",
      "text/plain": [
       "<Figure size 432x288 with 1 Axes>"
      ]
     },
     "metadata": {
      "needs_background": "light"
     },
     "output_type": "display_data"
    }
   ],
   "source": [
    "sns.boxplot(x = data['TenYearCHD'], y =data['age'])"
   ]
  },
  {
   "cell_type": "markdown",
   "metadata": {},
   "source": [
    "performing a statistical test for the same to prove whether the age of patients for ten year CHD is significantly different from each other"
   ]
  },
  {
   "cell_type": "markdown",
   "metadata": {},
   "source": [
    "Test - 2 sample T-Test"
   ]
  },
  {
   "cell_type": "code",
   "execution_count": 437,
   "metadata": {},
   "outputs": [],
   "source": [
    "from scipy import stats"
   ]
  },
  {
   "cell_type": "code",
   "execution_count": 438,
   "metadata": {},
   "outputs": [
    {
     "data": {
      "text/plain": [
       "Ttest_indResult(statistic=-348.64791360973516, pvalue=0.0)"
      ]
     },
     "execution_count": 438,
     "metadata": {},
     "output_type": "execute_result"
    }
   ],
   "source": [
    "stats.ttest_ind(data['TenYearCHD'], data['age'])"
   ]
  },
  {
   "cell_type": "code",
   "execution_count": 439,
   "metadata": {},
   "outputs": [
    {
     "data": {
      "text/plain": [
       "0    3101\n",
       "1     557\n",
       "Name: TenYearCHD, dtype: int64"
      ]
     },
     "execution_count": 439,
     "metadata": {},
     "output_type": "execute_result"
    }
   ],
   "source": [
    "data['TenYearCHD'].value_counts()"
   ]
  },
  {
   "cell_type": "code",
   "execution_count": 440,
   "metadata": {},
   "outputs": [],
   "source": [
    "age0 = data[data['TenYearCHD'] == 0]['age']\n",
    "age1 = data[data['TenYearCHD'] == 1]['age']"
   ]
  },
  {
   "cell_type": "code",
   "execution_count": 441,
   "metadata": {},
   "outputs": [
    {
     "data": {
      "text/plain": [
       "0       39\n",
       "1       46\n",
       "2       48\n",
       "4       46\n",
       "5       43\n",
       "        ..\n",
       "4231    58\n",
       "4234    51\n",
       "4237    52\n",
       "4238    40\n",
       "4239    39\n",
       "Name: age, Length: 3101, dtype: int64"
      ]
     },
     "execution_count": 441,
     "metadata": {},
     "output_type": "execute_result"
    }
   ],
   "source": [
    "age0"
   ]
  },
  {
   "cell_type": "code",
   "execution_count": 442,
   "metadata": {},
   "outputs": [
    {
     "data": {
      "text/plain": [
       "3       61\n",
       "6       63\n",
       "15      38\n",
       "17      46\n",
       "25      47\n",
       "        ..\n",
       "4221    50\n",
       "4223    56\n",
       "4226    58\n",
       "4232    68\n",
       "4233    50\n",
       "Name: age, Length: 557, dtype: int64"
      ]
     },
     "execution_count": 442,
     "metadata": {},
     "output_type": "execute_result"
    }
   ],
   "source": [
    "age1"
   ]
  },
  {
   "cell_type": "code",
   "execution_count": 443,
   "metadata": {},
   "outputs": [
    {
     "data": {
      "text/plain": [
       "Ttest_indResult(statistic=14.551681974696821, pvalue=1.1227010347053238e-46)"
      ]
     },
     "execution_count": 443,
     "metadata": {},
     "output_type": "execute_result"
    }
   ],
   "source": [
    "stats.ttest_ind(age1, age0)"
   ]
  },
  {
   "cell_type": "markdown",
   "metadata": {},
   "source": [
    "Since, the P-value of Age of Ten Year CHD 0 and 1 is much less than 0.05 . It proves that the ages for 0 and 1 are significantly different from each other, and therefore is a very important feature for the model building and prediction"
   ]
  },
  {
   "cell_type": "markdown",
   "metadata": {},
   "source": [
    "d. Apply density plot and check if the data is normally distributed"
   ]
  },
  {
   "cell_type": "code",
   "execution_count": 444,
   "metadata": {},
   "outputs": [
    {
     "data": {
      "text/plain": [
       "<matplotlib.axes._subplots.AxesSubplot at 0xe1f7afb240>"
      ]
     },
     "execution_count": 444,
     "metadata": {},
     "output_type": "execute_result"
    },
    {
     "data": {
      "image/png": "[encoded data removed]",
      "text/plain": [
       "<Figure size 432x288 with 1 Axes>"
      ]
     },
     "metadata": {
      "needs_background": "light"
     },
     "output_type": "display_data"
    }
   ],
   "source": [
    "sns.distplot(data['age'])"
   ]
  },
  {
   "cell_type": "markdown",
   "metadata": {},
   "source": [
    "5.\tEDA - Inference: (5 marks)\n",
    "\n",
    "    Write detailed inference (not observations) about the question 4, few pointers like Outlier detection, outlier treatment, conditions for linearity, impact because of transformation on variables, distributions etc.\n"
   ]
  },
  {
   "cell_type": "markdown",
   "metadata": {},
   "source": [
    "6.\tLabel Encoding / Get Dummies: Build a base model (Include all input parameters) using logistic regression if data is binary / or use any other modelling technique if data in multiclass. "
   ]
  },
  {
   "cell_type": "markdown",
   "metadata": {},
   "source": [
    "This data is already encoded . Therefore not creating further dummies."
   ]
  },
  {
   "cell_type": "markdown",
   "metadata": {},
   "source": [
    "But here is the code for creating dummies"
   ]
  },
  {
   "cell_type": "code",
   "execution_count": 445,
   "metadata": {},
   "outputs": [],
   "source": [
    "#cat_cols = ['SEX', 'EDUCATION', 'MARRIAGE']\n",
    "#df = pd.get_dummies(df, columns= cat_cols, drop_first = True)"
   ]
  },
  {
   "cell_type": "code",
   "execution_count": 446,
   "metadata": {},
   "outputs": [],
   "source": [
    "lr = LogisticRegression(solver = 'liblinear')"
   ]
  },
  {
   "cell_type": "code",
   "execution_count": 447,
   "metadata": {},
   "outputs": [],
   "source": [
    "def model_fit(algo, X_train, y_train, X_test, y_test):\n",
    "    #for train Data\n",
    "    \n",
    "    algo.fit(X_train, y_train)\n",
    "    y_train_pred = algo.predict(X_train)\n",
    "    y_train_prob = algo.predict_proba(X_train)[:,1]\n",
    "    print('AUC score of Train:', roc_auc_score(y_train, y_train_prob))\n",
    "    fpr, tpr, threshold = roc_curve(y_train, y_train_prob)\n",
    "    print(confusion_matrix(y_train, y_train_pred))\n",
    "    plt.plot(fpr,tpr,'r')\n",
    "    plt.plot(fpr,fpr)\n",
    "    plt.xlabel('FPR')\n",
    "    plt.ylabel('TPR')\n",
    "    plt.show()\n",
    "    optimal_idx = np.argmax(tpr-fpr)\n",
    "    print(optimal_idx)\n",
    "    \n",
    "    #For test Data\n",
    "    \n",
    "    y_test_pred = algo.predict(X_test)\n",
    "    y_test_prob = algo.predict_proba(X_test)[:,1]\n",
    "    print('AUC score of Test:', roc_auc_score(y_test, y_test_prob))\n",
    "    fpr, tpr, threshold = roc_curve(y_test, y_test_prob)\n",
    "    print(confusion_matrix(y_test, y_test_pred))\n",
    "    \n",
    "    \n",
    "    plt.plot(fpr,tpr,'r')\n",
    "    plt.plot(fpr,fpr)\n",
    "    plt.xlabel('FPR')\n",
    "    plt.ylabel('TPR')\n",
    "    plt.show()\n",
    "    optimal_idx = np.argmax(tpr-fpr)\n",
    "    print(optimal_idx)"
   ]
  },
  {
   "cell_type": "code",
   "execution_count": 448,
   "metadata": {},
   "outputs": [],
   "source": [
    "X = new_data.drop('TenYearCHD', axis=1)\n",
    "y = new_data['TenYearCHD']"
   ]
  },
  {
   "cell_type": "code",
   "execution_count": 449,
   "metadata": {},
   "outputs": [],
   "source": [
    "X_train, X_test, y_train, y_test = train_test_split( X, y, test_size=0.30, random_state=42)"
   ]
  },
  {
   "cell_type": "code",
   "execution_count": 450,
   "metadata": {},
   "outputs": [
    {
     "data": {
      "text/plain": [
       "(2560, 15)"
      ]
     },
     "execution_count": 450,
     "metadata": {},
     "output_type": "execute_result"
    }
   ],
   "source": [
    "X_train.shape\n"
   ]
  },
  {
   "cell_type": "code",
   "execution_count": 451,
   "metadata": {},
   "outputs": [
    {
     "data": {
      "text/plain": [
       "(1098, 15)"
      ]
     },
     "execution_count": 451,
     "metadata": {},
     "output_type": "execute_result"
    }
   ],
   "source": [
    "X_test.shape"
   ]
  },
  {
   "cell_type": "markdown",
   "metadata": {},
   "source": [
    "model using Logistic regression considering all the input parameters, calculate all the relevant metrics and write summary (5marks)"
   ]
  },
  {
   "cell_type": "code",
   "execution_count": 452,
   "metadata": {},
   "outputs": [],
   "source": [
    "lr = LogisticRegression(solver = 'liblinear')"
   ]
  },
  {
   "cell_type": "code",
   "execution_count": 453,
   "metadata": {},
   "outputs": [
    {
     "data": {
      "text/plain": [
       "LogisticRegression(C=1.0, class_weight=None, dual=False, fit_intercept=True,\n",
       "                   intercept_scaling=1, l1_ratio=None, max_iter=100,\n",
       "                   multi_class='warn', n_jobs=None, penalty='l2',\n",
       "                   random_state=None, solver='liblinear', tol=0.0001, verbose=0,\n",
       "                   warm_start=False)"
      ]
     },
     "execution_count": 453,
     "metadata": {},
     "output_type": "execute_result"
    }
   ],
   "source": [
    "lr.fit(X_train,y_train )"
   ]
  },
  {
   "cell_type": "code",
   "execution_count": 454,
   "metadata": {},
   "outputs": [
    {
     "name": "stdout",
     "output_type": "stream",
     "text": [
      "Optimization terminated successfully.\n",
      "         Current function value: 0.373029\n",
      "         Iterations 7\n"
     ]
    },
    {
     "name": "stderr",
     "output_type": "stream",
     "text": [
      "C:\\Users\\arul\\Anaconda3\\lib\\site-packages\\numpy\\core\\fromnumeric.py:2495: FutureWarning: Method .ptp is deprecated and will be removed in a future version. Use numpy.ptp instead.\n",
      "  return ptp(axis=axis, out=out, **kwargs)\n"
     ]
    },
    {
     "data": {
      "text/html": [
       "<table class=\"simpletable\">\n",
       "<caption>Logit Regression Results</caption>\n",
       "<tr>\n",
       "  <th>Dep. Variable:</th>      <td>TenYearCHD</td>    <th>  No. Observations:  </th>  <td>  2560</td>  \n",
       "</tr>\n",
       "<tr>\n",
       "  <th>Model:</th>                 <td>Logit</td>      <th>  Df Residuals:      </th>  <td>  2544</td>  \n",
       "</tr>\n",
       "<tr>\n",
       "  <th>Method:</th>                 <td>MLE</td>       <th>  Df Model:          </th>  <td>    15</td>  \n",
       "</tr>\n",
       "<tr>\n",
       "  <th>Date:</th>            <td>Sun, 01 Dec 2019</td> <th>  Pseudo R-squ.:     </th>  <td>0.1133</td>  \n",
       "</tr>\n",
       "<tr>\n",
       "  <th>Time:</th>                <td>13:31:22</td>     <th>  Log-Likelihood:    </th> <td> -954.95</td> \n",
       "</tr>\n",
       "<tr>\n",
       "  <th>converged:</th>             <td>True</td>       <th>  LL-Null:           </th> <td> -1076.9</td> \n",
       "</tr>\n",
       "<tr>\n",
       "  <th>Covariance Type:</th>     <td>nonrobust</td>    <th>  LLR p-value:       </th> <td>2.208e-43</td>\n",
       "</tr>\n",
       "</table>\n",
       "<table class=\"simpletable\">\n",
       "<tr>\n",
       "         <td></td>            <th>coef</th>     <th>std err</th>      <th>z</th>      <th>P>|z|</th>  <th>[0.025</th>    <th>0.975]</th>  \n",
       "</tr>\n",
       "<tr>\n",
       "  <th>const</th>           <td>  -19.6782</td> <td>    3.579</td> <td>   -5.498</td> <td> 0.000</td> <td>  -26.693</td> <td>  -12.663</td>\n",
       "</tr>\n",
       "<tr>\n",
       "  <th>Gender</th>          <td>    0.5249</td> <td>    0.132</td> <td>    3.990</td> <td> 0.000</td> <td>    0.267</td> <td>    0.783</td>\n",
       "</tr>\n",
       "<tr>\n",
       "  <th>age</th>             <td>    0.0633</td> <td>    0.008</td> <td>    7.862</td> <td> 0.000</td> <td>    0.047</td> <td>    0.079</td>\n",
       "</tr>\n",
       "<tr>\n",
       "  <th>education</th>       <td>   -0.0299</td> <td>    0.060</td> <td>   -0.502</td> <td> 0.615</td> <td>   -0.147</td> <td>    0.087</td>\n",
       "</tr>\n",
       "<tr>\n",
       "  <th>currentSmoker</th>   <td>    0.1499</td> <td>    0.189</td> <td>    0.794</td> <td> 0.427</td> <td>   -0.220</td> <td>    0.520</td>\n",
       "</tr>\n",
       "<tr>\n",
       "  <th>cigsPerDay</th>      <td>    0.0164</td> <td>    0.007</td> <td>    2.195</td> <td> 0.028</td> <td>    0.002</td> <td>    0.031</td>\n",
       "</tr>\n",
       "<tr>\n",
       "  <th>BPMeds</th>          <td>    0.4691</td> <td>    0.270</td> <td>    1.741</td> <td> 0.082</td> <td>   -0.059</td> <td>    0.997</td>\n",
       "</tr>\n",
       "<tr>\n",
       "  <th>prevalentStroke</th> <td>    1.3756</td> <td>    0.558</td> <td>    2.465</td> <td> 0.014</td> <td>    0.282</td> <td>    2.469</td>\n",
       "</tr>\n",
       "<tr>\n",
       "  <th>prevalentHyp</th>    <td>    0.1172</td> <td>    0.168</td> <td>    0.699</td> <td> 0.485</td> <td>   -0.212</td> <td>    0.446</td>\n",
       "</tr>\n",
       "<tr>\n",
       "  <th>diabetes</th>        <td>    0.3540</td> <td>    0.335</td> <td>    1.056</td> <td> 0.291</td> <td>   -0.303</td> <td>    1.011</td>\n",
       "</tr>\n",
       "<tr>\n",
       "  <th>totChol</th>         <td>    0.5122</td> <td>    0.341</td> <td>    1.501</td> <td> 0.133</td> <td>   -0.157</td> <td>    1.181</td>\n",
       "</tr>\n",
       "<tr>\n",
       "  <th>sysBP</th>           <td>    2.3808</td> <td>    0.686</td> <td>    3.471</td> <td> 0.001</td> <td>    1.037</td> <td>    3.725</td>\n",
       "</tr>\n",
       "<tr>\n",
       "  <th>diaBP</th>           <td>   -0.6237</td> <td>    0.665</td> <td>   -0.938</td> <td> 0.348</td> <td>   -1.927</td> <td>    0.680</td>\n",
       "</tr>\n",
       "<tr>\n",
       "  <th>BMI</th>             <td>    0.2014</td> <td>    0.417</td> <td>    0.482</td> <td> 0.629</td> <td>   -0.617</td> <td>    1.019</td>\n",
       "</tr>\n",
       "<tr>\n",
       "  <th>heartRate</th>       <td>   -0.1159</td> <td>    0.395</td> <td>   -0.293</td> <td> 0.769</td> <td>   -0.890</td> <td>    0.658</td>\n",
       "</tr>\n",
       "<tr>\n",
       "  <th>glucose</th>         <td>    0.5143</td> <td>    0.314</td> <td>    1.636</td> <td> 0.102</td> <td>   -0.102</td> <td>    1.130</td>\n",
       "</tr>\n",
       "</table>"
      ],
      "text/plain": [
       "<class 'statsmodels.iolib.summary.Summary'>\n",
       "\"\"\"\n",
       "                           Logit Regression Results                           \n",
       "==============================================================================\n",
       "Dep. Variable:             TenYearCHD   No. Observations:                 2560\n",
       "Model:                          Logit   Df Residuals:                     2544\n",
       "Method:                           MLE   Df Model:                           15\n",
       "Date:                Sun, 01 Dec 2019   Pseudo R-squ.:                  0.1133\n",
       "Time:                        13:31:22   Log-Likelihood:                -954.95\n",
       "converged:                       True   LL-Null:                       -1076.9\n",
       "Covariance Type:            nonrobust   LLR p-value:                 2.208e-43\n",
       "===================================================================================\n",
       "                      coef    std err          z      P>|z|      [0.025      0.975]\n",
       "-----------------------------------------------------------------------------------\n",
       "const             -19.6782      3.579     -5.498      0.000     -26.693     -12.663\n",
       "Gender              0.5249      0.132      3.990      0.000       0.267       0.783\n",
       "age                 0.0633      0.008      7.862      0.000       0.047       0.079\n",
       "education          -0.0299      0.060     -0.502      0.615      -0.147       0.087\n",
       "currentSmoker       0.1499      0.189      0.794      0.427      -0.220       0.520\n",
       "cigsPerDay          0.0164      0.007      2.195      0.028       0.002       0.031\n",
       "BPMeds              0.4691      0.270      1.741      0.082      -0.059       0.997\n",
       "prevalentStroke     1.3756      0.558      2.465      0.014       0.282       2.469\n",
       "prevalentHyp        0.1172      0.168      0.699      0.485      -0.212       0.446\n",
       "diabetes            0.3540      0.335      1.056      0.291      -0.303       1.011\n",
       "totChol             0.5122      0.341      1.501      0.133      -0.157       1.181\n",
       "sysBP               2.3808      0.686      3.471      0.001       1.037       3.725\n",
       "diaBP              -0.6237      0.665     -0.938      0.348      -1.927       0.680\n",
       "BMI                 0.2014      0.417      0.482      0.629      -0.617       1.019\n",
       "heartRate          -0.1159      0.395     -0.293      0.769      -0.890       0.658\n",
       "glucose             0.5143      0.314      1.636      0.102      -0.102       1.130\n",
       "===================================================================================\n",
       "\"\"\""
      ]
     },
     "execution_count": 454,
     "metadata": {},
     "output_type": "execute_result"
    }
   ],
   "source": [
    "import statsmodels.api as sm\n",
    "Xc = sm.add_constant(X_train)\n",
    "logit_model = sm.Logit(y_train,Xc)\n",
    "result = logit_model.fit()\n",
    "result.summary()"
   ]
  },
  {
   "cell_type": "markdown",
   "metadata": {},
   "source": [
    "7.\tData handling: Check conditions for data imputation and data imbalance for the given dataset. Handling data imputation if needed and balance the data (Either go for under sampling or smote). If not, then explain why you do not need sampling.("
   ]
  },
  {
   "cell_type": "code",
   "execution_count": 455,
   "metadata": {},
   "outputs": [
    {
     "data": {
      "text/plain": [
       "0    2179\n",
       "1     381\n",
       "Name: TenYearCHD, dtype: int64"
      ]
     },
     "execution_count": 455,
     "metadata": {},
     "output_type": "execute_result"
    }
   ],
   "source": [
    "y_train.value_counts()"
   ]
  },
  {
   "cell_type": "code",
   "execution_count": 456,
   "metadata": {},
   "outputs": [
    {
     "data": {
      "text/plain": [
       "0    922\n",
       "1    176\n",
       "Name: TenYearCHD, dtype: int64"
      ]
     },
     "execution_count": 456,
     "metadata": {},
     "output_type": "execute_result"
    }
   ],
   "source": [
    "y_test.value_counts()"
   ]
  },
  {
   "cell_type": "code",
   "execution_count": 457,
   "metadata": {},
   "outputs": [],
   "source": [
    "smote = SMOTE(ratio = 'minority', random_state =0)\n",
    "\n",
    "X_train_sm, y_train_sm = smote.fit_sample(X_train, y_train)"
   ]
  },
  {
   "cell_type": "code",
   "execution_count": 458,
   "metadata": {},
   "outputs": [
    {
     "data": {
      "text/plain": [
       "1    2179\n",
       "0    2179\n",
       "dtype: int64"
      ]
     },
     "execution_count": 458,
     "metadata": {},
     "output_type": "execute_result"
    }
   ],
   "source": [
    "pd.Series(y_train_sm).value_counts()"
   ]
  },
  {
   "cell_type": "markdown",
   "metadata": {},
   "source": [
    "8.\tBuild multiple models by using feature selection and feature engineering and identify which is the good model and write the inference. "
   ]
  },
  {
   "cell_type": "markdown",
   "metadata": {},
   "source": [
    "Feature Engineering using VIF"
   ]
  },
  {
   "cell_type": "code",
   "execution_count": 459,
   "metadata": {},
   "outputs": [],
   "source": [
    "vif = pd.DataFrame()\n",
    "vif['vif'] = [variance_inflation_factor(X.values,i) for i in range (X.shape[1])]\n",
    "vif['features'] = X.columns"
   ]
  },
  {
   "cell_type": "code",
   "execution_count": 460,
   "metadata": {},
   "outputs": [
    {
     "data": {
      "text/html": [
       "<div>\n",
       "<style scoped>\n",
       "    .dataframe tbody tr th:only-of-type {\n",
       "        vertical-align: middle;\n",
       "    }\n",
       "\n",
       "    .dataframe tbody tr th {\n",
       "        vertical-align: top;\n",
       "    }\n",
       "\n",
       "    .dataframe thead th {\n",
       "        text-align: right;\n",
       "    }\n",
       "</style>\n",
       "<table border=\"1\" class=\"dataframe\">\n",
       "  <thead>\n",
       "    <tr style=\"text-align: right;\">\n",
       "      <th></th>\n",
       "      <th>vif</th>\n",
       "      <th>features</th>\n",
       "    </tr>\n",
       "  </thead>\n",
       "  <tbody>\n",
       "    <tr>\n",
       "      <th>0</th>\n",
       "      <td>2.168228</td>\n",
       "      <td>Gender</td>\n",
       "    </tr>\n",
       "    <tr>\n",
       "      <th>1</th>\n",
       "      <td>46.912874</td>\n",
       "      <td>age</td>\n",
       "    </tr>\n",
       "    <tr>\n",
       "      <th>2</th>\n",
       "      <td>4.959538</td>\n",
       "      <td>education</td>\n",
       "    </tr>\n",
       "    <tr>\n",
       "      <th>3</th>\n",
       "      <td>5.031562</td>\n",
       "      <td>currentSmoker</td>\n",
       "    </tr>\n",
       "    <tr>\n",
       "      <th>4</th>\n",
       "      <td>4.293195</td>\n",
       "      <td>cigsPerDay</td>\n",
       "    </tr>\n",
       "    <tr>\n",
       "      <th>5</th>\n",
       "      <td>1.136904</td>\n",
       "      <td>BPMeds</td>\n",
       "    </tr>\n",
       "    <tr>\n",
       "      <th>6</th>\n",
       "      <td>1.023222</td>\n",
       "      <td>prevalentStroke</td>\n",
       "    </tr>\n",
       "    <tr>\n",
       "      <th>7</th>\n",
       "      <td>2.210714</td>\n",
       "      <td>prevalentHyp</td>\n",
       "    </tr>\n",
       "    <tr>\n",
       "      <th>8</th>\n",
       "      <td>1.350239</td>\n",
       "      <td>diabetes</td>\n",
       "    </tr>\n",
       "    <tr>\n",
       "      <th>9</th>\n",
       "      <td>858.197812</td>\n",
       "      <td>totChol</td>\n",
       "    </tr>\n",
       "    <tr>\n",
       "      <th>10</th>\n",
       "      <td>3231.578996</td>\n",
       "      <td>sysBP</td>\n",
       "    </tr>\n",
       "    <tr>\n",
       "      <th>11</th>\n",
       "      <td>2775.795890</td>\n",
       "      <td>diaBP</td>\n",
       "    </tr>\n",
       "    <tr>\n",
       "      <th>12</th>\n",
       "      <td>545.547923</td>\n",
       "      <td>BMI</td>\n",
       "    </tr>\n",
       "    <tr>\n",
       "      <th>13</th>\n",
       "      <td>763.965074</td>\n",
       "      <td>heartRate</td>\n",
       "    </tr>\n",
       "    <tr>\n",
       "      <th>14</th>\n",
       "      <td>573.629826</td>\n",
       "      <td>glucose</td>\n",
       "    </tr>\n",
       "  </tbody>\n",
       "</table>\n",
       "</div>"
      ],
      "text/plain": [
       "            vif         features\n",
       "0      2.168228           Gender\n",
       "1     46.912874              age\n",
       "2      4.959538        education\n",
       "3      5.031562    currentSmoker\n",
       "4      4.293195       cigsPerDay\n",
       "5      1.136904           BPMeds\n",
       "6      1.023222  prevalentStroke\n",
       "7      2.210714     prevalentHyp\n",
       "8      1.350239         diabetes\n",
       "9    858.197812          totChol\n",
       "10  3231.578996            sysBP\n",
       "11  2775.795890            diaBP\n",
       "12   545.547923              BMI\n",
       "13   763.965074        heartRate\n",
       "14   573.629826          glucose"
      ]
     },
     "execution_count": 460,
     "metadata": {},
     "output_type": "execute_result"
    }
   ],
   "source": [
    "vif"
   ]
  },
  {
   "cell_type": "markdown",
   "metadata": {},
   "source": [
    "Feature ENgineerign using RFE"
   ]
  },
  {
   "cell_type": "code",
   "execution_count": 461,
   "metadata": {},
   "outputs": [],
   "source": [
    "new_data = new_data.drop(['BMI', 'diaBP', 'heartRate', 'glucose', 'education','currentSmoker', 'prevalentHyp', 'diabetes', 'totChol'], axis =1)"
   ]
  },
  {
   "cell_type": "code",
   "execution_count": 462,
   "metadata": {
    "scrolled": true
   },
   "outputs": [
    {
     "data": {
      "text/html": [
       "<div>\n",
       "<style scoped>\n",
       "    .dataframe tbody tr th:only-of-type {\n",
       "        vertical-align: middle;\n",
       "    }\n",
       "\n",
       "    .dataframe tbody tr th {\n",
       "        vertical-align: top;\n",
       "    }\n",
       "\n",
       "    .dataframe thead th {\n",
       "        text-align: right;\n",
       "    }\n",
       "</style>\n",
       "<table border=\"1\" class=\"dataframe\">\n",
       "  <thead>\n",
       "    <tr style=\"text-align: right;\">\n",
       "      <th></th>\n",
       "      <th>Gender</th>\n",
       "      <th>age</th>\n",
       "      <th>cigsPerDay</th>\n",
       "      <th>BPMeds</th>\n",
       "      <th>prevalentStroke</th>\n",
       "      <th>sysBP</th>\n",
       "      <th>TenYearCHD</th>\n",
       "    </tr>\n",
       "  </thead>\n",
       "  <tbody>\n",
       "    <tr>\n",
       "      <th>0</th>\n",
       "      <td>1</td>\n",
       "      <td>39</td>\n",
       "      <td>0.0</td>\n",
       "      <td>0.0</td>\n",
       "      <td>0</td>\n",
       "      <td>4.663439</td>\n",
       "      <td>0</td>\n",
       "    </tr>\n",
       "    <tr>\n",
       "      <th>1</th>\n",
       "      <td>0</td>\n",
       "      <td>46</td>\n",
       "      <td>0.0</td>\n",
       "      <td>0.0</td>\n",
       "      <td>0</td>\n",
       "      <td>4.795791</td>\n",
       "      <td>0</td>\n",
       "    </tr>\n",
       "    <tr>\n",
       "      <th>2</th>\n",
       "      <td>1</td>\n",
       "      <td>48</td>\n",
       "      <td>20.0</td>\n",
       "      <td>0.0</td>\n",
       "      <td>0</td>\n",
       "      <td>4.848116</td>\n",
       "      <td>0</td>\n",
       "    </tr>\n",
       "    <tr>\n",
       "      <th>3</th>\n",
       "      <td>0</td>\n",
       "      <td>61</td>\n",
       "      <td>30.0</td>\n",
       "      <td>0.0</td>\n",
       "      <td>0</td>\n",
       "      <td>5.010635</td>\n",
       "      <td>1</td>\n",
       "    </tr>\n",
       "    <tr>\n",
       "      <th>4</th>\n",
       "      <td>0</td>\n",
       "      <td>46</td>\n",
       "      <td>23.0</td>\n",
       "      <td>0.0</td>\n",
       "      <td>0</td>\n",
       "      <td>4.867534</td>\n",
       "      <td>0</td>\n",
       "    </tr>\n",
       "    <tr>\n",
       "      <th>...</th>\n",
       "      <td>...</td>\n",
       "      <td>...</td>\n",
       "      <td>...</td>\n",
       "      <td>...</td>\n",
       "      <td>...</td>\n",
       "      <td>...</td>\n",
       "      <td>...</td>\n",
       "    </tr>\n",
       "    <tr>\n",
       "      <th>4233</th>\n",
       "      <td>1</td>\n",
       "      <td>50</td>\n",
       "      <td>1.0</td>\n",
       "      <td>0.0</td>\n",
       "      <td>0</td>\n",
       "      <td>5.187386</td>\n",
       "      <td>1</td>\n",
       "    </tr>\n",
       "    <tr>\n",
       "      <th>4234</th>\n",
       "      <td>1</td>\n",
       "      <td>51</td>\n",
       "      <td>43.0</td>\n",
       "      <td>0.0</td>\n",
       "      <td>0</td>\n",
       "      <td>4.840242</td>\n",
       "      <td>0</td>\n",
       "    </tr>\n",
       "    <tr>\n",
       "      <th>4237</th>\n",
       "      <td>0</td>\n",
       "      <td>52</td>\n",
       "      <td>0.0</td>\n",
       "      <td>0.0</td>\n",
       "      <td>0</td>\n",
       "      <td>4.894101</td>\n",
       "      <td>0</td>\n",
       "    </tr>\n",
       "    <tr>\n",
       "      <th>4238</th>\n",
       "      <td>1</td>\n",
       "      <td>40</td>\n",
       "      <td>0.0</td>\n",
       "      <td>0.0</td>\n",
       "      <td>0</td>\n",
       "      <td>4.948760</td>\n",
       "      <td>0</td>\n",
       "    </tr>\n",
       "    <tr>\n",
       "      <th>4239</th>\n",
       "      <td>0</td>\n",
       "      <td>39</td>\n",
       "      <td>30.0</td>\n",
       "      <td>0.0</td>\n",
       "      <td>0</td>\n",
       "      <td>4.890349</td>\n",
       "      <td>0</td>\n",
       "    </tr>\n",
       "  </tbody>\n",
       "</table>\n",
       "<p>3658 rows × 7 columns</p>\n",
       "</div>"
      ],
      "text/plain": [
       "      Gender  age  cigsPerDay  BPMeds  prevalentStroke     sysBP  TenYearCHD\n",
       "0          1   39         0.0     0.0                0  4.663439           0\n",
       "1          0   46         0.0     0.0                0  4.795791           0\n",
       "2          1   48        20.0     0.0                0  4.848116           0\n",
       "3          0   61        30.0     0.0                0  5.010635           1\n",
       "4          0   46        23.0     0.0                0  4.867534           0\n",
       "...      ...  ...         ...     ...              ...       ...         ...\n",
       "4233       1   50         1.0     0.0                0  5.187386           1\n",
       "4234       1   51        43.0     0.0                0  4.840242           0\n",
       "4237       0   52         0.0     0.0                0  4.894101           0\n",
       "4238       1   40         0.0     0.0                0  4.948760           0\n",
       "4239       0   39        30.0     0.0                0  4.890349           0\n",
       "\n",
       "[3658 rows x 7 columns]"
      ]
     },
     "execution_count": 462,
     "metadata": {},
     "output_type": "execute_result"
    }
   ],
   "source": [
    "new_data"
   ]
  },
  {
   "cell_type": "code",
   "execution_count": 463,
   "metadata": {},
   "outputs": [],
   "source": [
    "X = new_data.drop('TenYearCHD', axis=1)\n",
    "y = new_data['TenYearCHD']"
   ]
  },
  {
   "cell_type": "code",
   "execution_count": 464,
   "metadata": {},
   "outputs": [],
   "source": [
    "X_train, X_test, y_train, y_test = train_test_split( X, y, test_size=0.30, random_state=42)"
   ]
  },
  {
   "cell_type": "code",
   "execution_count": 465,
   "metadata": {},
   "outputs": [],
   "source": [
    "smote = SMOTE(ratio = 'minority', random_state =0)\n",
    "\n",
    "X_train_sm, y_train_sm = smote.fit_sample(X_train, y_train)"
   ]
  },
  {
   "cell_type": "markdown",
   "metadata": {},
   "source": [
    "9.\tBuild a classification model (logistic, decision tree, KNN, Naïve Bayes) and calculate the metric and write inference on all the model and describe which model is very good "
   ]
  },
  {
   "cell_type": "markdown",
   "metadata": {},
   "source": [
    "# Logistic Regression Model"
   ]
  },
  {
   "cell_type": "code",
   "execution_count": 466,
   "metadata": {},
   "outputs": [
    {
     "name": "stdout",
     "output_type": "stream",
     "text": [
      "AUC score of Train: 0.7266065099269361\n",
      "[[1444  735]\n",
      " [ 710 1469]]\n"
     ]
    },
    {
     "data": {
      "image/png": "[encoded data removed]",
      "text/plain": [
       "<Figure size 432x288 with 1 Axes>"
      ]
     },
     "metadata": {
      "needs_background": "light"
     },
     "output_type": "display_data"
    },
    {
     "name": "stdout",
     "output_type": "stream",
     "text": [
      "946\n",
      "AUC score of Test: 0.7216710214947742\n",
      "[[636 286]\n",
      " [ 61 115]]\n"
     ]
    },
    {
     "data": {
      "image/png": "[encoded data removed]",
      "text/plain": [
       "<Figure size 432x288 with 1 Axes>"
      ]
     },
     "metadata": {
      "needs_background": "light"
     },
     "output_type": "display_data"
    },
    {
     "name": "stdout",
     "output_type": "stream",
     "text": [
      "180\n"
     ]
    }
   ],
   "source": [
    "model_fit(lr, X_train_sm, y_train_sm , X_test, y_test )"
   ]
  },
  {
   "cell_type": "markdown",
   "metadata": {},
   "source": [
    "# Random Forest Classifier Model"
   ]
  },
  {
   "cell_type": "code",
   "execution_count": 467,
   "metadata": {},
   "outputs": [],
   "source": [
    "rf = RandomForestClassifier(random_state=0,criterion='entropy' )"
   ]
  },
  {
   "cell_type": "code",
   "execution_count": 468,
   "metadata": {},
   "outputs": [
    {
     "name": "stderr",
     "output_type": "stream",
     "text": [
      "C:\\Users\\arul\\Anaconda3\\lib\\site-packages\\sklearn\\ensemble\\forest.py:245: FutureWarning: The default value of n_estimators will change from 10 in version 0.20 to 100 in 0.22.\n",
      "  \"10 in version 0.20 to 100 in 0.22.\", FutureWarning)\n"
     ]
    },
    {
     "name": "stdout",
     "output_type": "stream",
     "text": [
      "AUC score of Train: 0.9989703121771695\n",
      "[[2156   23]\n",
      " [  39 2140]]\n"
     ]
    },
    {
     "data": {
      "image/png": "[encoded data removed]",
      "text/plain": [
       "<Figure size 432x288 with 1 Axes>"
      ]
     },
     "metadata": {
      "needs_background": "light"
     },
     "output_type": "display_data"
    },
    {
     "name": "stdout",
     "output_type": "stream",
     "text": [
      "19\n",
      "AUC score of Test: 0.6325983533819759\n",
      "[[773 149]\n",
      " [120  56]]\n"
     ]
    },
    {
     "data": {
      "image/png": "[encoded data removed]",
      "text/plain": [
       "<Figure size 432x288 with 1 Axes>"
      ]
     },
     "metadata": {
      "needs_background": "light"
     },
     "output_type": "display_data"
    },
    {
     "name": "stdout",
     "output_type": "stream",
     "text": [
      "18\n"
     ]
    }
   ],
   "source": [
    "model_fit(rf, X_train_sm, y_train_sm, X_test, y_test)"
   ]
  },
  {
   "cell_type": "markdown",
   "metadata": {},
   "source": [
    "# KNN CLassifier model"
   ]
  },
  {
   "cell_type": "code",
   "execution_count": 469,
   "metadata": {},
   "outputs": [],
   "source": [
    "knn=KNeighborsClassifier()"
   ]
  },
  {
   "cell_type": "code",
   "execution_count": 470,
   "metadata": {},
   "outputs": [
    {
     "name": "stdout",
     "output_type": "stream",
     "text": [
      "AUC score of Train: 0.9300734766190941\n",
      "[[1762  417]\n",
      " [ 275 1904]]\n"
     ]
    },
    {
     "data": {
      "image/png": "[encoded data removed]",
      "text/plain": [
       "<Figure size 432x288 with 1 Axes>"
      ]
     },
     "metadata": {
      "needs_background": "light"
     },
     "output_type": "display_data"
    },
    {
     "name": "stdout",
     "output_type": "stream",
     "text": [
      "3\n",
      "AUC score of Test: 0.6147517747978702\n",
      "[[679 243]\n",
      " [102  74]]\n"
     ]
    },
    {
     "data": {
      "image/png": "[encoded data removed]",
      "text/plain": [
       "<Figure size 432x288 with 1 Axes>"
      ]
     },
     "metadata": {
      "needs_background": "light"
     },
     "output_type": "display_data"
    },
    {
     "name": "stdout",
     "output_type": "stream",
     "text": [
      "4\n"
     ]
    }
   ],
   "source": [
    "model_fit(knn,  X_train_sm, y_train_sm, X_test, y_test)"
   ]
  },
  {
   "cell_type": "markdown",
   "metadata": {},
   "source": [
    "# Decision Tree Classifier Model"
   ]
  },
  {
   "cell_type": "code",
   "execution_count": 471,
   "metadata": {},
   "outputs": [],
   "source": [
    "DT=DecisionTreeClassifier()"
   ]
  },
  {
   "cell_type": "code",
   "execution_count": 472,
   "metadata": {},
   "outputs": [
    {
     "name": "stdout",
     "output_type": "stream",
     "text": [
      "AUC score of Train: 0.9999438715883034\n",
      "[[2179    0]\n",
      " [  23 2156]]\n"
     ]
    },
    {
     "data": {
      "image/png": "[encoded data removed]",
      "text/plain": [
       "<Figure size 432x288 with 1 Axes>"
      ]
     },
     "metadata": {
      "needs_background": "light"
     },
     "output_type": "display_data"
    },
    {
     "name": "stdout",
     "output_type": "stream",
     "text": [
      "1\n",
      "AUC score of Test: 0.5574282685860776\n",
      "[[732 190]\n",
      " [119  57]]\n"
     ]
    },
    {
     "data": {
      "image/png": "[encoded data removed]",
      "text/plain": [
       "<Figure size 432x288 with 1 Axes>"
      ]
     },
     "metadata": {
      "needs_background": "light"
     },
     "output_type": "display_data"
    },
    {
     "name": "stdout",
     "output_type": "stream",
     "text": [
      "1\n"
     ]
    }
   ],
   "source": [
    "model_fit(DT, X_train_sm, y_train_sm, X_test, y_test)"
   ]
  },
  {
   "cell_type": "code",
   "execution_count": 473,
   "metadata": {},
   "outputs": [],
   "source": [
    "from sklearn.model_selection import RandomizedSearchCV"
   ]
  },
  {
   "cell_type": "code",
   "execution_count": null,
   "metadata": {},
   "outputs": [],
   "source": [
    "RandomizedSearchCV(estimator, param_distributions, n_iter=10, scoring=None, n_jobs=None, iid=’warn’, refit=True, cv=’warn’, verbose=0, pre_dispatch=‘2*n_jobs’, random_state=None, error_score=’raise-deprecating’, return_train_score=False)"
   ]
  },
  {
   "cell_type": "code",
   "execution_count": null,
   "metadata": {},
   "outputs": [],
   "source": []
  },
  {
   "cell_type": "code",
   "execution_count": null,
   "metadata": {},
   "outputs": [],
   "source": []
  },
  {
   "cell_type": "code",
   "execution_count": null,
   "metadata": {},
   "outputs": [],
   "source": []
  },
  {
   "cell_type": "code",
   "execution_count": null,
   "metadata": {},
   "outputs": [],
   "source": []
  },
  {
   "cell_type": "code",
   "execution_count": null,
   "metadata": {},
   "outputs": [],
   "source": []
  },
  {
   "cell_type": "code",
   "execution_count": null,
   "metadata": {},
   "outputs": [],
   "source": []
  },
  {
   "cell_type": "code",
   "execution_count": null,
   "metadata": {},
   "outputs": [],
   "source": []
  },
  {
   "cell_type": "code",
   "execution_count": null,
   "metadata": {},
   "outputs": [],
   "source": []
  },
  {
   "cell_type": "code",
   "execution_count": null,
   "metadata": {},
   "outputs": [],
   "source": []
  },
  {
   "cell_type": "code",
   "execution_count": null,
   "metadata": {},
   "outputs": [],
   "source": []
  },
  {
   "cell_type": "markdown",
   "metadata": {},
   "source": []
  },
  {
   "cell_type": "code",
   "execution_count": null,
   "metadata": {},
   "outputs": [],
   "source": []
  }
 ],
 "metadata": {
  "kernelspec": {
   "display_name": "Python 3",
   "language": "python",
   "name": "python3"
  },
  "language_info": {
   "codemirror_mode": {
    "name": "ipython",
    "version": 3
   },
   "file_extension": ".py",
   "mimetype": "text/x-python",
   "name": "python",
   "nbconvert_exporter": "python",
   "pygments_lexer": "ipython3",
   "version": "3.7.3"
  }
 },
 "nbformat": 4,
 "nbformat_minor": 2
}
